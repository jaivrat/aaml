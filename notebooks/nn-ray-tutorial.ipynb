{
 "cells": [
  {
   "cell_type": "markdown",
   "id": "821667a2",
   "metadata": {},
   "source": [
    "https://towardsdatascience.com/modern-parallel-and-distributed-python-a-quick-tutorial-on-ray-99f8d70369b8"
   ]
  },
  {
   "cell_type": "code",
   "execution_count": 1,
   "id": "0cebf2bb",
   "metadata": {},
   "outputs": [
    {
     "name": "stderr",
     "output_type": "stream",
     "text": [
      "2024-04-21 06:56:44,921\tINFO util.py:90 -- Missing packages: ['ipywidgets']. Run `pip install -U ipywidgets`, then restart the notebook server for rich notebook output.\n"
     ]
    }
   ],
   "source": [
    "import ray\n",
    "import time"
   ]
  },
  {
   "cell_type": "code",
   "execution_count": 2,
   "id": "fbacafcd",
   "metadata": {},
   "outputs": [
    {
     "name": "stderr",
     "output_type": "stream",
     "text": [
      "2024-04-21 06:57:38,859\tINFO worker.py:1642 -- Started a local Ray instance.\n"
     ]
    },
    {
     "data": {
      "text/html": [
       "<div class=\"lm-Widget p-Widget lm-Panel p-Panel jp-Cell-outputWrapper\">\n",
       "    <div style=\"margin-left: 50px;display: flex;flex-direction: row;align-items: center\">\n",
       "        <div class=\"jp-RenderedHTMLCommon\" style=\"display: flex; flex-direction: row;\">\n",
       "  <svg viewBox=\"0 0 567 224\" fill=\"none\" xmlns=\"http://www.w3.org/2000/svg\" style=\"height: 3em;\">\n",
       "    <g clip-path=\"url(#clip0_4338_178347)\">\n",
       "        <path d=\"M341.29 165.561H355.29L330.13 129.051C345.63 123.991 354.21 112.051 354.21 94.2307C354.21 71.3707 338.72 58.1807 311.88 58.1807H271V165.561H283.27V131.661H311.8C314.25 131.661 316.71 131.501 319.01 131.351L341.25 165.561H341.29ZM283.29 119.851V70.0007H311.82C331.3 70.0007 342.34 78.2907 342.34 94.5507C342.34 111.271 331.34 119.861 311.82 119.861L283.29 119.851ZM451.4 138.411L463.4 165.561H476.74L428.74 58.1807H416L367.83 165.561H380.83L392.83 138.411H451.4ZM446.19 126.601H398L422 72.1407L446.24 126.601H446.19ZM526.11 128.741L566.91 58.1807H554.35L519.99 114.181L485.17 58.1807H472.44L514.01 129.181V165.541H526.13V128.741H526.11Z\" fill=\"var(--jp-ui-font-color0)\"/>\n",
       "        <path d=\"M82.35 104.44C84.0187 97.8827 87.8248 92.0678 93.1671 87.9146C98.5094 83.7614 105.083 81.5067 111.85 81.5067C118.617 81.5067 125.191 83.7614 130.533 87.9146C135.875 92.0678 139.681 97.8827 141.35 104.44H163.75C164.476 101.562 165.622 98.8057 167.15 96.2605L127.45 56.5605C121.071 60.3522 113.526 61.6823 106.235 60.3005C98.9443 58.9187 92.4094 54.9203 87.8602 49.0574C83.3109 43.1946 81.0609 35.8714 81.5332 28.4656C82.0056 21.0599 85.1679 14.0819 90.4252 8.8446C95.6824 3.60726 102.672 0.471508 110.08 0.0272655C117.487 -0.416977 124.802 1.86091 130.647 6.4324C136.493 11.0039 140.467 17.5539 141.821 24.8501C143.175 32.1463 141.816 39.6859 138 46.0505L177.69 85.7505C182.31 82.9877 187.58 81.4995 192.962 81.4375C198.345 81.3755 203.648 82.742 208.33 85.3976C213.012 88.0532 216.907 91.9029 219.616 96.5544C222.326 101.206 223.753 106.492 223.753 111.875C223.753 117.258 222.326 122.545 219.616 127.197C216.907 131.848 213.012 135.698 208.33 138.353C203.648 141.009 198.345 142.375 192.962 142.313C187.58 142.251 182.31 140.763 177.69 138L138 177.7C141.808 184.071 143.155 191.614 141.79 198.91C140.424 206.205 136.44 212.75 130.585 217.313C124.731 221.875 117.412 224.141 110.004 223.683C102.596 223.226 95.6103 220.077 90.3621 214.828C85.1139 209.58 81.9647 202.595 81.5072 195.187C81.0497 187.779 83.3154 180.459 87.878 174.605C92.4405 168.751 98.9853 164.766 106.281 163.401C113.576 162.035 121.119 163.383 127.49 167.19L167.19 127.49C165.664 124.941 164.518 122.182 163.79 119.3H141.39C139.721 125.858 135.915 131.673 130.573 135.826C125.231 139.98 118.657 142.234 111.89 142.234C105.123 142.234 98.5494 139.98 93.2071 135.826C87.8648 131.673 84.0587 125.858 82.39 119.3H60C58.1878 126.495 53.8086 132.78 47.6863 136.971C41.5641 141.163 34.1211 142.972 26.7579 142.059C19.3947 141.146 12.6191 137.574 7.70605 132.014C2.79302 126.454 0.0813599 119.29 0.0813599 111.87C0.0813599 104.451 2.79302 97.2871 7.70605 91.7272C12.6191 86.1673 19.3947 82.5947 26.7579 81.6817C34.1211 80.7686 41.5641 82.5781 47.6863 86.7696C53.8086 90.9611 58.1878 97.2456 60 104.44H82.35ZM100.86 204.32C103.407 206.868 106.759 208.453 110.345 208.806C113.93 209.159 117.527 208.258 120.522 206.256C123.517 204.254 125.725 201.276 126.771 197.828C127.816 194.38 127.633 190.677 126.253 187.349C124.874 184.021 122.383 181.274 119.205 179.577C116.027 177.88 112.359 177.337 108.826 178.042C105.293 178.746 102.113 180.654 99.8291 183.44C97.5451 186.226 96.2979 189.718 96.3 193.32C96.2985 195.364 96.7006 197.388 97.4831 199.275C98.2656 201.163 99.4132 202.877 100.86 204.32ZM204.32 122.88C206.868 120.333 208.453 116.981 208.806 113.396C209.159 109.811 208.258 106.214 206.256 103.219C204.254 100.223 201.275 98.0151 197.827 96.97C194.38 95.9249 190.676 96.1077 187.348 97.4873C184.02 98.8669 181.274 101.358 179.577 104.536C177.879 107.714 177.337 111.382 178.041 114.915C178.746 118.448 180.653 121.627 183.439 123.911C186.226 126.195 189.717 127.443 193.32 127.44C195.364 127.443 197.388 127.042 199.275 126.259C201.163 125.476 202.878 124.328 204.32 122.88ZM122.88 19.4205C120.333 16.8729 116.981 15.2876 113.395 14.9347C109.81 14.5817 106.213 15.483 103.218 17.4849C100.223 19.4868 98.0146 22.4654 96.9696 25.9131C95.9245 29.3608 96.1073 33.0642 97.4869 36.3922C98.8665 39.7202 101.358 42.4668 104.535 44.1639C107.713 45.861 111.381 46.4036 114.914 45.6992C118.447 44.9949 121.627 43.0871 123.911 40.301C126.195 37.515 127.442 34.0231 127.44 30.4205C127.44 28.3772 127.038 26.3539 126.255 24.4664C125.473 22.5788 124.326 20.8642 122.88 19.4205ZM19.42 100.86C16.8725 103.408 15.2872 106.76 14.9342 110.345C14.5813 113.93 15.4826 117.527 17.4844 120.522C19.4863 123.518 22.4649 125.726 25.9127 126.771C29.3604 127.816 33.0638 127.633 36.3918 126.254C39.7198 124.874 42.4664 122.383 44.1635 119.205C45.8606 116.027 46.4032 112.359 45.6988 108.826C44.9944 105.293 43.0866 102.114 40.3006 99.8296C37.5145 97.5455 34.0227 96.2983 30.42 96.3005C26.2938 96.3018 22.337 97.9421 19.42 100.86ZM100.86 100.86C98.3125 103.408 96.7272 106.76 96.3742 110.345C96.0213 113.93 96.9226 117.527 98.9244 120.522C100.926 123.518 103.905 125.726 107.353 126.771C110.8 127.816 114.504 127.633 117.832 126.254C121.16 124.874 123.906 122.383 125.604 119.205C127.301 116.027 127.843 112.359 127.139 108.826C126.434 105.293 124.527 102.114 121.741 99.8296C118.955 97.5455 115.463 96.2983 111.86 96.3005C109.817 96.299 107.793 96.701 105.905 97.4835C104.018 98.2661 102.303 99.4136 100.86 100.86Z\" fill=\"#00AEEF\"/>\n",
       "    </g>\n",
       "    <defs>\n",
       "        <clipPath id=\"clip0_4338_178347\">\n",
       "            <rect width=\"566.93\" height=\"223.75\" fill=\"white\"/>\n",
       "        </clipPath>\n",
       "    </defs>\n",
       "  </svg>\n",
       "</div>\n",
       "\n",
       "        <table class=\"jp-RenderedHTMLCommon\" style=\"border-collapse: collapse;color: var(--jp-ui-font-color1);font-size: var(--jp-ui-font-size1);\">\n",
       "    <tr>\n",
       "        <td style=\"text-align: left\"><b>Python version:</b></td>\n",
       "        <td style=\"text-align: left\"><b>3.7.7</b></td>\n",
       "    </tr>\n",
       "    <tr>\n",
       "        <td style=\"text-align: left\"><b>Ray version:</b></td>\n",
       "        <td style=\"text-align: left\"><b>2.7.2</b></td>\n",
       "    </tr>\n",
       "    \n",
       "</table>\n",
       "\n",
       "    </div>\n",
       "</div>\n"
      ],
      "text/plain": [
       "RayContext(dashboard_url='', python_version='3.7.7', ray_version='2.7.2', ray_commit='82221fbf2c0e6304f981ce613e4297eb7535dd52', protocol_version=None)"
      ]
     },
     "execution_count": 2,
     "metadata": {},
     "output_type": "execute_result"
    }
   ],
   "source": [
    "# Start Ray.\n",
    "ray.init()"
   ]
  },
  {
   "cell_type": "code",
   "execution_count": 10,
   "id": "f9058c3f",
   "metadata": {},
   "outputs": [],
   "source": [
    "@ray.remote\n",
    "def f(x):\n",
    "    time.sleep(20)\n",
    "    return x"
   ]
  },
  {
   "cell_type": "code",
   "execution_count": 11,
   "id": "2e8ba287",
   "metadata": {},
   "outputs": [],
   "source": [
    "# Start 4 tasks in parallel.\n",
    "result_ids = []\n",
    "for i in range(4):\n",
    "    result_ids.append(f.remote(i))"
   ]
  },
  {
   "cell_type": "code",
   "execution_count": 12,
   "id": "62f84f85",
   "metadata": {},
   "outputs": [
    {
     "data": {
      "text/plain": [
       "[0, 1, 2, 3]"
      ]
     },
     "execution_count": 12,
     "metadata": {},
     "output_type": "execute_result"
    }
   ],
   "source": [
    "# Wait for the tasks to complete and retrieve the results.\n",
    "# With at least 4 cores, this will take 5 second.\n",
    "results = ray.get(result_ids)  # [0, 1, 2, 3]\n",
    "results"
   ]
  },
  {
   "cell_type": "code",
   "execution_count": 47,
   "id": "9d865faa",
   "metadata": {},
   "outputs": [
    {
     "name": "stdout",
     "output_type": "stream",
     "text": [
      "Time taken: 1.3873200416564941\n"
     ]
    }
   ],
   "source": [
    "@ray.remote\n",
    "def create_matrix(size):\n",
    "    return np.random.normal(size=size)\n",
    "\n",
    "@ray.remote\n",
    "def multiply_matrices(x, y):\n",
    "    return np.dot(x, y)\n",
    "\n",
    "start = time.time()\n",
    "x_id = create_matrix.remote([1000, 1000])\n",
    "y_id = create_matrix.remote([1000, 1000])\n",
    "z_ids = []\n",
    "for i in range(100):\n",
    "    z_ids.append(multiply_matrices.remote(x_id, y_id))\n",
    "\n",
    "# Get the results.\n",
    "z = ray.get(z_ids)\n",
    "\n",
    "print('Time taken: ' + str(time.time()-start))"
   ]
  },
  {
   "cell_type": "code",
   "execution_count": 49,
   "id": "11f63414",
   "metadata": {},
   "outputs": [],
   "source": [
    "@ray.remote\n",
    "def add(x, y):\n",
    "    time.sleep(1)\n",
    "    return x + y\n",
    "\n",
    "\n"
   ]
  },
  {
   "cell_type": "code",
   "execution_count": null,
   "id": "dc912bca",
   "metadata": {},
   "outputs": [],
   "source": [
    "def add(x, y):"
   ]
  },
  {
   "cell_type": "code",
   "execution_count": null,
   "id": "12df6490",
   "metadata": {},
   "outputs": [],
   "source": [
    "values = [1, 2, 3, 4, 5, 6, 7, 8]"
   ]
  },
  {
   "cell_type": "code",
   "execution_count": 50,
   "id": "87a372e0",
   "metadata": {},
   "outputs": [],
   "source": [
    "x = add.remote(1, 1)"
   ]
  },
  {
   "cell_type": "code",
   "execution_count": 51,
   "id": "78356cd9",
   "metadata": {},
   "outputs": [
    {
     "data": {
      "text/plain": [
       "ray._raylet.ObjectRef"
      ]
     },
     "execution_count": 51,
     "metadata": {},
     "output_type": "execute_result"
    }
   ],
   "source": [
    "type(x)"
   ]
  },
  {
   "cell_type": "code",
   "execution_count": 55,
   "id": "7fe1cc1e",
   "metadata": {},
   "outputs": [
    {
     "data": {
      "text/plain": [
       "2"
      ]
     },
     "execution_count": 55,
     "metadata": {},
     "output_type": "execute_result"
    }
   ],
   "source": [
    "ray.get(x)"
   ]
  },
  {
   "cell_type": "code",
   "execution_count": 56,
   "id": "340cc022",
   "metadata": {},
   "outputs": [],
   "source": [
    "x=[1,2]"
   ]
  },
  {
   "cell_type": "code",
   "execution_count": 57,
   "id": "5cf06d6e",
   "metadata": {},
   "outputs": [],
   "source": [
    "y = [ 5, 6, 7]"
   ]
  },
  {
   "cell_type": "code",
   "execution_count": 58,
   "id": "c1c7d3fd",
   "metadata": {},
   "outputs": [
    {
     "data": {
      "text/plain": [
       "[1, 2, 5, 6, 7]"
      ]
     },
     "execution_count": 58,
     "metadata": {},
     "output_type": "execute_result"
    }
   ],
   "source": [
    "x + y"
   ]
  },
  {
   "cell_type": "code",
   "execution_count": 64,
   "id": "bc3e06ba",
   "metadata": {},
   "outputs": [],
   "source": [
    "# Fast approach.\n",
    "values = list(range(20))\n",
    "while len(values) > 1:\n",
    "    values = values[2:] + [add.remote(values[0], values[1])]\n",
    "result = ray.get(values[0])"
   ]
  },
  {
   "cell_type": "code",
   "execution_count": 65,
   "id": "24c826df",
   "metadata": {},
   "outputs": [],
   "source": [
    "# Slow approach.\n",
    "values = list(range(20))\n",
    "while len(values) > 1:\n",
    "    values = [add.remote(values[0], values[1])] + values[2:]\n",
    "result = ray.get(values[0])"
   ]
  },
  {
   "cell_type": "code",
   "execution_count": 66,
   "id": "b23851a4",
   "metadata": {},
   "outputs": [],
   "source": [
    "@ray.remote\n",
    "class Counter(object):\n",
    "    def __init__(self):\n",
    "        self.x = 0\n",
    "    \n",
    "    def inc(self):\n",
    "        self.x += 1\n",
    "    \n",
    "    def get_value(self):\n",
    "        return self.x"
   ]
  },
  {
   "cell_type": "code",
   "execution_count": 67,
   "id": "5a4ce16b",
   "metadata": {},
   "outputs": [],
   "source": [
    "# Create an actor process.\n",
    "c = Counter.remote()"
   ]
  },
  {
   "cell_type": "code",
   "execution_count": 68,
   "id": "061153a9",
   "metadata": {},
   "outputs": [
    {
     "data": {
      "text/plain": [
       "ray.actor.ActorHandle"
      ]
     },
     "execution_count": 68,
     "metadata": {},
     "output_type": "execute_result"
    }
   ],
   "source": [
    "type(c)"
   ]
  },
  {
   "cell_type": "code",
   "execution_count": 70,
   "id": "789528fc",
   "metadata": {},
   "outputs": [
    {
     "name": "stdout",
     "output_type": "stream",
     "text": [
      "0\n"
     ]
    }
   ],
   "source": [
    "# Check the actor's counter value.\n",
    "print(ray.get(c.get_value.remote()))  # 0"
   ]
  },
  {
   "cell_type": "code",
   "execution_count": 71,
   "id": "c5f778fe",
   "metadata": {},
   "outputs": [
    {
     "data": {
      "text/plain": [
       "ObjectRef(40936f29ad73f41c46e5a9d3328a581c3ac2ed120100000001000000)"
      ]
     },
     "execution_count": 71,
     "metadata": {},
     "output_type": "execute_result"
    }
   ],
   "source": [
    "# Increment the counter twice and check the value again.\n",
    "c.inc.remote()\n",
    "c.inc.remote()"
   ]
  },
  {
   "cell_type": "code",
   "execution_count": 82,
   "id": "3725f4ea",
   "metadata": {},
   "outputs": [
    {
     "name": "stdout",
     "output_type": "stream",
     "text": [
      "2\n"
     ]
    }
   ],
   "source": [
    "print(ray.get(c.get_value.remote()))  # 2"
   ]
  },
  {
   "cell_type": "code",
   "execution_count": 85,
   "id": "21444922",
   "metadata": {},
   "outputs": [
    {
     "data": {
      "text/plain": [
       "ObjectRef(40ea89cf4249848546e5a9d3328a581c3ac2ed120100000001000000)"
      ]
     },
     "execution_count": 85,
     "metadata": {},
     "output_type": "execute_result"
    }
   ],
   "source": [
    "c.get_value.remote()"
   ]
  },
  {
   "cell_type": "code",
   "execution_count": 87,
   "id": "08c57296",
   "metadata": {},
   "outputs": [
    {
     "data": {
      "text/plain": [
       "2"
      ]
     },
     "execution_count": 87,
     "metadata": {},
     "output_type": "execute_result"
    }
   ],
   "source": [
    "ray.get(c.get_value.remote())"
   ]
  },
  {
   "cell_type": "code",
   "execution_count": 88,
   "id": "85613e2d",
   "metadata": {},
   "outputs": [
    {
     "ename": "AttributeError",
     "evalue": "'ActorHandle' object has no attribute 'x'",
     "output_type": "error",
     "traceback": [
      "\u001b[0;31m---------------------------------------------------------------------------\u001b[0m",
      "\u001b[0;31mAttributeError\u001b[0m                            Traceback (most recent call last)",
      "\u001b[0;32m/var/folders/mw/pvq5xc9d1klbjmpfrl8cnwfm0000gn/T/ipykernel_1917/2178408936.py\u001b[0m in \u001b[0;36m<module>\u001b[0;34m\u001b[0m\n\u001b[0;32m----> 1\u001b[0;31m \u001b[0mc\u001b[0m\u001b[0;34m.\u001b[0m\u001b[0mx\u001b[0m\u001b[0;34m\u001b[0m\u001b[0;34m\u001b[0m\u001b[0m\n\u001b[0m",
      "\u001b[0;32m~/anaconda3/envs/aaml/lib/python3.7/site-packages/ray/actor.py\u001b[0m in \u001b[0;36m__getattr__\u001b[0;34m(self, item)\u001b[0m\n\u001b[1;32m   1201\u001b[0m         \u001b[0;32mif\u001b[0m \u001b[0;32mnot\u001b[0m \u001b[0mself\u001b[0m\u001b[0;34m.\u001b[0m\u001b[0m_ray_is_cross_language\u001b[0m\u001b[0;34m:\u001b[0m\u001b[0;34m\u001b[0m\u001b[0;34m\u001b[0m\u001b[0m\n\u001b[1;32m   1202\u001b[0m             raise AttributeError(\n\u001b[0;32m-> 1203\u001b[0;31m                 \u001b[0;34mf\"'{type(self).__name__}' object has \"\u001b[0m \u001b[0;34mf\"no attribute '{item}'\"\u001b[0m\u001b[0;34m\u001b[0m\u001b[0;34m\u001b[0m\u001b[0m\n\u001b[0m\u001b[1;32m   1204\u001b[0m             )\n\u001b[1;32m   1205\u001b[0m         \u001b[0;32mif\u001b[0m \u001b[0mitem\u001b[0m \u001b[0;32min\u001b[0m \u001b[0;34m[\u001b[0m\u001b[0;34m\"__ray_terminate__\"\u001b[0m\u001b[0;34m]\u001b[0m\u001b[0;34m:\u001b[0m\u001b[0;34m\u001b[0m\u001b[0;34m\u001b[0m\u001b[0m\n",
      "\u001b[0;31mAttributeError\u001b[0m: 'ActorHandle' object has no attribute 'x'"
     ]
    }
   ],
   "source": [
    "c.x"
   ]
  },
  {
   "cell_type": "markdown",
   "id": "673c0ed1",
   "metadata": {},
   "source": [
    "The following example creates an actor that stores messages. Several worker tasks repeatedly push messages to the actor, and the main Python script reads the messages periodically."
   ]
  },
  {
   "cell_type": "code",
   "execution_count": 90,
   "id": "61df4f42",
   "metadata": {},
   "outputs": [],
   "source": [
    "import time\n",
    "\n",
    "@ray.remote\n",
    "class MessageActor(object):\n",
    "    def __init__(self):\n",
    "        self.messages = []\n",
    "    \n",
    "    def add_message(self, message):\n",
    "        self.messages.append(message)\n",
    "    \n",
    "    def get_and_clear_messages(self):\n",
    "        messages = self.messages\n",
    "        self.messages = []\n",
    "        return messages\n",
    "    \n",
    "    \n",
    "# Define a remote function which loops around and pushes\n",
    "# messages to the actor.\n",
    "@ray.remote\n",
    "def worker(message_actor, j):\n",
    "    for i in range(100):\n",
    "        time.sleep(1)\n",
    "        message_actor.add_message.remote(\"Message {} from worker {}.\".format(i, j))\n",
    "        \n",
    "        "
   ]
  },
  {
   "cell_type": "code",
   "execution_count": 91,
   "id": "c7e856a1",
   "metadata": {},
   "outputs": [],
   "source": [
    "# Create a message actor.\n",
    "message_actor = MessageActor.remote()"
   ]
  },
  {
   "cell_type": "code",
   "execution_count": 92,
   "id": "71279e9b",
   "metadata": {},
   "outputs": [
    {
     "data": {
      "text/plain": [
       "[ObjectRef(fd5b387a1d03c2f3ffffffffffffffffffffffff0100000001000000),\n",
       " ObjectRef(a065fb8bd22ea359ffffffffffffffffffffffff0100000001000000),\n",
       " ObjectRef(5e87988ffd705f70ffffffffffffffffffffffff0100000001000000)]"
      ]
     },
     "execution_count": 92,
     "metadata": {},
     "output_type": "execute_result"
    }
   ],
   "source": [
    "# Start 3 tasks that push messages to the actor.\n",
    "[worker.remote(message_actor, j) for j in range(3)]"
   ]
  },
  {
   "cell_type": "code",
   "execution_count": 93,
   "id": "dfcd9b49",
   "metadata": {},
   "outputs": [
    {
     "name": "stdout",
     "output_type": "stream",
     "text": [
      "New messages: ['Message 0 from worker 1.', 'Message 0 from worker 2.', 'Message 0 from worker 0.', 'Message 1 from worker 2.', 'Message 1 from worker 1.', 'Message 1 from worker 0.', 'Message 2 from worker 1.', 'Message 2 from worker 2.', 'Message 2 from worker 0.', 'Message 3 from worker 2.', 'Message 3 from worker 1.', 'Message 3 from worker 0.', 'Message 4 from worker 2.', 'Message 4 from worker 1.', 'Message 4 from worker 0.', 'Message 5 from worker 2.', 'Message 5 from worker 1.', 'Message 5 from worker 0.', 'Message 6 from worker 2.', 'Message 6 from worker 1.', 'Message 6 from worker 0.', 'Message 7 from worker 2.', 'Message 7 from worker 1.', 'Message 7 from worker 0.', 'Message 8 from worker 2.', 'Message 8 from worker 1.', 'Message 8 from worker 0.', 'Message 9 from worker 2.', 'Message 9 from worker 1.', 'Message 9 from worker 0.', 'Message 10 from worker 2.', 'Message 10 from worker 1.', 'Message 10 from worker 0.', 'Message 11 from worker 2.', 'Message 11 from worker 1.', 'Message 11 from worker 0.', 'Message 12 from worker 2.', 'Message 12 from worker 1.', 'Message 12 from worker 0.', 'Message 13 from worker 2.', 'Message 13 from worker 1.', 'Message 13 from worker 0.', 'Message 14 from worker 2.', 'Message 14 from worker 1.', 'Message 14 from worker 0.']\n",
      "New messages: ['Message 15 from worker 2.', 'Message 15 from worker 1.', 'Message 15 from worker 0.']\n",
      "New messages: ['Message 16 from worker 2.', 'Message 16 from worker 1.', 'Message 16 from worker 0.']\n",
      "New messages: ['Message 17 from worker 2.', 'Message 17 from worker 1.', 'Message 17 from worker 0.']\n",
      "New messages: ['Message 18 from worker 2.', 'Message 18 from worker 1.', 'Message 18 from worker 0.']\n",
      "New messages: ['Message 19 from worker 2.', 'Message 19 from worker 1.', 'Message 19 from worker 0.']\n",
      "New messages: ['Message 20 from worker 2.', 'Message 20 from worker 1.', 'Message 20 from worker 0.']\n",
      "New messages: ['Message 21 from worker 2.', 'Message 21 from worker 1.', 'Message 21 from worker 0.']\n",
      "New messages: ['Message 22 from worker 2.', 'Message 22 from worker 1.', 'Message 22 from worker 0.']\n",
      "New messages: ['Message 23 from worker 2.', 'Message 23 from worker 1.', 'Message 23 from worker 0.']\n",
      "New messages: ['Message 24 from worker 2.', 'Message 24 from worker 1.', 'Message 24 from worker 0.']\n",
      "New messages: ['Message 25 from worker 2.', 'Message 25 from worker 1.', 'Message 25 from worker 0.']\n",
      "New messages: ['Message 26 from worker 2.', 'Message 26 from worker 1.', 'Message 26 from worker 0.']\n",
      "New messages: ['Message 27 from worker 2.', 'Message 27 from worker 1.', 'Message 27 from worker 0.']\n",
      "New messages: ['Message 28 from worker 2.', 'Message 28 from worker 1.', 'Message 28 from worker 0.']\n",
      "New messages: ['Message 29 from worker 2.', 'Message 29 from worker 1.', 'Message 29 from worker 0.']\n",
      "New messages: ['Message 30 from worker 2.', 'Message 30 from worker 1.', 'Message 30 from worker 0.']\n",
      "New messages: ['Message 31 from worker 2.', 'Message 31 from worker 0.', 'Message 31 from worker 1.']\n",
      "New messages: ['Message 32 from worker 2.', 'Message 32 from worker 1.', 'Message 32 from worker 0.']\n",
      "New messages: ['Message 33 from worker 2.', 'Message 33 from worker 1.', 'Message 33 from worker 0.']\n",
      "New messages: ['Message 34 from worker 2.', 'Message 34 from worker 1.', 'Message 34 from worker 0.']\n",
      "New messages: ['Message 35 from worker 2.', 'Message 35 from worker 1.', 'Message 35 from worker 0.']\n",
      "New messages: ['Message 36 from worker 2.', 'Message 36 from worker 1.', 'Message 36 from worker 0.']\n",
      "New messages: ['Message 37 from worker 0.', 'Message 37 from worker 2.', 'Message 37 from worker 1.']\n",
      "New messages: ['Message 38 from worker 2.', 'Message 38 from worker 1.', 'Message 38 from worker 0.']\n",
      "New messages: ['Message 39 from worker 2.', 'Message 39 from worker 1.', 'Message 39 from worker 0.']\n",
      "New messages: ['Message 40 from worker 2.', 'Message 40 from worker 1.', 'Message 40 from worker 0.']\n",
      "New messages: ['Message 41 from worker 2.', 'Message 41 from worker 1.', 'Message 41 from worker 0.']\n",
      "New messages: ['Message 42 from worker 2.', 'Message 42 from worker 1.', 'Message 42 from worker 0.']\n",
      "New messages: ['Message 43 from worker 2.', 'Message 43 from worker 0.', 'Message 43 from worker 1.']\n",
      "New messages: ['Message 44 from worker 2.', 'Message 44 from worker 1.', 'Message 44 from worker 0.']\n",
      "New messages: ['Message 45 from worker 1.', 'Message 45 from worker 2.', 'Message 45 from worker 0.']\n",
      "New messages: ['Message 46 from worker 2.', 'Message 46 from worker 1.', 'Message 46 from worker 0.']\n",
      "New messages: ['Message 47 from worker 2.', 'Message 47 from worker 1.', 'Message 47 from worker 0.']\n",
      "New messages: ['Message 48 from worker 2.', 'Message 48 from worker 0.', 'Message 48 from worker 1.']\n",
      "New messages: ['Message 49 from worker 2.', 'Message 49 from worker 1.', 'Message 49 from worker 0.']\n",
      "New messages: ['Message 50 from worker 2.', 'Message 50 from worker 1.', 'Message 50 from worker 0.']\n",
      "New messages: ['Message 51 from worker 2.', 'Message 51 from worker 1.', 'Message 51 from worker 0.']\n",
      "New messages: ['Message 52 from worker 2.', 'Message 52 from worker 1.', 'Message 52 from worker 0.']\n",
      "New messages: ['Message 53 from worker 2.', 'Message 53 from worker 1.', 'Message 53 from worker 0.']\n",
      "New messages: ['Message 54 from worker 1.', 'Message 54 from worker 2.', 'Message 54 from worker 0.']\n",
      "New messages: ['Message 55 from worker 2.', 'Message 55 from worker 1.', 'Message 55 from worker 0.']\n",
      "New messages: ['Message 56 from worker 2.', 'Message 56 from worker 1.', 'Message 56 from worker 0.']\n",
      "New messages: ['Message 57 from worker 2.', 'Message 57 from worker 0.', 'Message 57 from worker 1.']\n",
      "New messages: ['Message 58 from worker 2.', 'Message 58 from worker 1.', 'Message 58 from worker 0.']\n",
      "New messages: ['Message 59 from worker 1.', 'Message 59 from worker 2.', 'Message 59 from worker 0.']\n",
      "New messages: ['Message 60 from worker 2.', 'Message 60 from worker 1.', 'Message 60 from worker 0.']\n",
      "New messages: ['Message 61 from worker 0.', 'Message 61 from worker 2.', 'Message 61 from worker 1.']\n",
      "New messages: ['Message 62 from worker 2.', 'Message 62 from worker 1.', 'Message 62 from worker 0.']\n",
      "New messages: ['Message 63 from worker 2.', 'Message 63 from worker 1.', 'Message 63 from worker 0.']\n",
      "New messages: ['Message 64 from worker 2.', 'Message 64 from worker 0.', 'Message 64 from worker 1.']\n",
      "New messages: ['Message 65 from worker 2.', 'Message 65 from worker 1.', 'Message 65 from worker 0.']\n",
      "New messages: ['Message 66 from worker 2.', 'Message 66 from worker 1.', 'Message 66 from worker 0.']\n",
      "New messages: ['Message 67 from worker 0.', 'Message 67 from worker 2.', 'Message 67 from worker 1.']\n",
      "New messages: ['Message 68 from worker 0.', 'Message 68 from worker 1.', 'Message 68 from worker 2.']\n",
      "New messages: ['Message 69 from worker 0.', 'Message 69 from worker 1.', 'Message 69 from worker 2.']\n",
      "New messages: ['Message 70 from worker 0.', 'Message 70 from worker 1.', 'Message 70 from worker 2.']\n",
      "New messages: ['Message 71 from worker 0.', 'Message 71 from worker 2.', 'Message 71 from worker 1.']\n",
      "New messages: ['Message 72 from worker 0.', 'Message 72 from worker 2.', 'Message 72 from worker 1.']\n",
      "New messages: ['Message 73 from worker 0.', 'Message 73 from worker 2.', 'Message 73 from worker 1.']\n",
      "New messages: ['Message 74 from worker 0.', 'Message 74 from worker 2.', 'Message 74 from worker 1.']\n",
      "New messages: ['Message 75 from worker 0.', 'Message 75 from worker 2.', 'Message 75 from worker 1.']\n",
      "New messages: ['Message 76 from worker 0.', 'Message 76 from worker 2.', 'Message 76 from worker 1.']\n",
      "New messages: ['Message 77 from worker 0.', 'Message 77 from worker 1.', 'Message 77 from worker 2.']\n",
      "New messages: ['Message 78 from worker 0.', 'Message 78 from worker 2.', 'Message 78 from worker 1.']\n",
      "New messages: ['Message 79 from worker 0.', 'Message 79 from worker 2.', 'Message 79 from worker 1.']\n",
      "New messages: ['Message 80 from worker 0.', 'Message 80 from worker 1.', 'Message 80 from worker 2.']\n",
      "New messages: ['Message 81 from worker 0.', 'Message 81 from worker 2.', 'Message 81 from worker 1.']\n",
      "New messages: ['Message 82 from worker 0.', 'Message 82 from worker 2.', 'Message 82 from worker 1.']\n"
     ]
    },
    {
     "name": "stdout",
     "output_type": "stream",
     "text": [
      "New messages: ['Message 83 from worker 0.', 'Message 83 from worker 1.', 'Message 83 from worker 2.']\n",
      "New messages: ['Message 84 from worker 0.', 'Message 84 from worker 1.', 'Message 84 from worker 2.']\n",
      "New messages: ['Message 85 from worker 0.', 'Message 85 from worker 2.', 'Message 85 from worker 1.']\n",
      "New messages: ['Message 86 from worker 0.', 'Message 86 from worker 2.', 'Message 86 from worker 1.']\n",
      "New messages: ['Message 87 from worker 0.', 'Message 87 from worker 2.', 'Message 87 from worker 1.']\n",
      "New messages: ['Message 88 from worker 0.', 'Message 88 from worker 2.', 'Message 88 from worker 1.']\n",
      "New messages: ['Message 89 from worker 0.', 'Message 89 from worker 2.', 'Message 89 from worker 1.']\n",
      "New messages: ['Message 90 from worker 0.', 'Message 90 from worker 1.', 'Message 90 from worker 2.']\n",
      "New messages: ['Message 91 from worker 0.', 'Message 91 from worker 2.', 'Message 91 from worker 1.']\n",
      "New messages: ['Message 92 from worker 0.', 'Message 92 from worker 2.', 'Message 92 from worker 1.']\n",
      "New messages: ['Message 93 from worker 0.', 'Message 93 from worker 2.', 'Message 93 from worker 1.']\n",
      "New messages: ['Message 94 from worker 0.', 'Message 94 from worker 1.', 'Message 94 from worker 2.']\n",
      "New messages: ['Message 95 from worker 2.', 'Message 95 from worker 1.', 'Message 95 from worker 0.']\n",
      "New messages: ['Message 96 from worker 2.', 'Message 96 from worker 1.', 'Message 96 from worker 0.']\n",
      "New messages: ['Message 97 from worker 2.', 'Message 97 from worker 1.', 'Message 97 from worker 0.']\n",
      "New messages: ['Message 98 from worker 2.', 'Message 98 from worker 0.', 'Message 98 from worker 1.']\n",
      "New messages: ['Message 99 from worker 2.', 'Message 99 from worker 1.', 'Message 99 from worker 0.']\n",
      "New messages: []\n",
      "New messages: []\n",
      "New messages: []\n",
      "New messages: []\n",
      "New messages: []\n",
      "New messages: []\n",
      "New messages: []\n",
      "New messages: []\n",
      "New messages: []\n",
      "New messages: []\n",
      "New messages: []\n",
      "New messages: []\n",
      "New messages: []\n",
      "New messages: []\n"
     ]
    }
   ],
   "source": [
    "# Periodically get the messages and print them.\n",
    "for _ in range(100):\n",
    "    new_messages = ray.get(message_actor.get_and_clear_messages.remote())\n",
    "    print(\"New messages:\", new_messages)\n",
    "    time.sleep(1)"
   ]
  },
  {
   "cell_type": "code",
   "execution_count": 99,
   "id": "2e4a77d5",
   "metadata": {},
   "outputs": [],
   "source": [
    "ray.shutdown()"
   ]
  },
  {
   "cell_type": "code",
   "execution_count": 100,
   "id": "7b353448",
   "metadata": {},
   "outputs": [],
   "source": [
    "import numpy as np\n",
    "import psutil\n",
    "import ray\n",
    "import scipy.signal\n"
   ]
  },
  {
   "cell_type": "code",
   "execution_count": 101,
   "id": "204371e9",
   "metadata": {},
   "outputs": [
    {
     "name": "stdout",
     "output_type": "stream",
     "text": [
      "6\n"
     ]
    }
   ],
   "source": [
    "num_cpus = psutil.cpu_count(logical=False)\n",
    "print(num_cpus)"
   ]
  },
  {
   "cell_type": "code",
   "execution_count": 102,
   "id": "bc2e9894",
   "metadata": {},
   "outputs": [
    {
     "name": "stderr",
     "output_type": "stream",
     "text": [
      "2024-04-21 14:51:59,011\tINFO worker.py:1642 -- Started a local Ray instance.\n"
     ]
    },
    {
     "data": {
      "text/html": [
       "<div class=\"lm-Widget p-Widget lm-Panel p-Panel jp-Cell-outputWrapper\">\n",
       "    <div style=\"margin-left: 50px;display: flex;flex-direction: row;align-items: center\">\n",
       "        <div class=\"jp-RenderedHTMLCommon\" style=\"display: flex; flex-direction: row;\">\n",
       "  <svg viewBox=\"0 0 567 224\" fill=\"none\" xmlns=\"http://www.w3.org/2000/svg\" style=\"height: 3em;\">\n",
       "    <g clip-path=\"url(#clip0_4338_178347)\">\n",
       "        <path d=\"M341.29 165.561H355.29L330.13 129.051C345.63 123.991 354.21 112.051 354.21 94.2307C354.21 71.3707 338.72 58.1807 311.88 58.1807H271V165.561H283.27V131.661H311.8C314.25 131.661 316.71 131.501 319.01 131.351L341.25 165.561H341.29ZM283.29 119.851V70.0007H311.82C331.3 70.0007 342.34 78.2907 342.34 94.5507C342.34 111.271 331.34 119.861 311.82 119.861L283.29 119.851ZM451.4 138.411L463.4 165.561H476.74L428.74 58.1807H416L367.83 165.561H380.83L392.83 138.411H451.4ZM446.19 126.601H398L422 72.1407L446.24 126.601H446.19ZM526.11 128.741L566.91 58.1807H554.35L519.99 114.181L485.17 58.1807H472.44L514.01 129.181V165.541H526.13V128.741H526.11Z\" fill=\"var(--jp-ui-font-color0)\"/>\n",
       "        <path d=\"M82.35 104.44C84.0187 97.8827 87.8248 92.0678 93.1671 87.9146C98.5094 83.7614 105.083 81.5067 111.85 81.5067C118.617 81.5067 125.191 83.7614 130.533 87.9146C135.875 92.0678 139.681 97.8827 141.35 104.44H163.75C164.476 101.562 165.622 98.8057 167.15 96.2605L127.45 56.5605C121.071 60.3522 113.526 61.6823 106.235 60.3005C98.9443 58.9187 92.4094 54.9203 87.8602 49.0574C83.3109 43.1946 81.0609 35.8714 81.5332 28.4656C82.0056 21.0599 85.1679 14.0819 90.4252 8.8446C95.6824 3.60726 102.672 0.471508 110.08 0.0272655C117.487 -0.416977 124.802 1.86091 130.647 6.4324C136.493 11.0039 140.467 17.5539 141.821 24.8501C143.175 32.1463 141.816 39.6859 138 46.0505L177.69 85.7505C182.31 82.9877 187.58 81.4995 192.962 81.4375C198.345 81.3755 203.648 82.742 208.33 85.3976C213.012 88.0532 216.907 91.9029 219.616 96.5544C222.326 101.206 223.753 106.492 223.753 111.875C223.753 117.258 222.326 122.545 219.616 127.197C216.907 131.848 213.012 135.698 208.33 138.353C203.648 141.009 198.345 142.375 192.962 142.313C187.58 142.251 182.31 140.763 177.69 138L138 177.7C141.808 184.071 143.155 191.614 141.79 198.91C140.424 206.205 136.44 212.75 130.585 217.313C124.731 221.875 117.412 224.141 110.004 223.683C102.596 223.226 95.6103 220.077 90.3621 214.828C85.1139 209.58 81.9647 202.595 81.5072 195.187C81.0497 187.779 83.3154 180.459 87.878 174.605C92.4405 168.751 98.9853 164.766 106.281 163.401C113.576 162.035 121.119 163.383 127.49 167.19L167.19 127.49C165.664 124.941 164.518 122.182 163.79 119.3H141.39C139.721 125.858 135.915 131.673 130.573 135.826C125.231 139.98 118.657 142.234 111.89 142.234C105.123 142.234 98.5494 139.98 93.2071 135.826C87.8648 131.673 84.0587 125.858 82.39 119.3H60C58.1878 126.495 53.8086 132.78 47.6863 136.971C41.5641 141.163 34.1211 142.972 26.7579 142.059C19.3947 141.146 12.6191 137.574 7.70605 132.014C2.79302 126.454 0.0813599 119.29 0.0813599 111.87C0.0813599 104.451 2.79302 97.2871 7.70605 91.7272C12.6191 86.1673 19.3947 82.5947 26.7579 81.6817C34.1211 80.7686 41.5641 82.5781 47.6863 86.7696C53.8086 90.9611 58.1878 97.2456 60 104.44H82.35ZM100.86 204.32C103.407 206.868 106.759 208.453 110.345 208.806C113.93 209.159 117.527 208.258 120.522 206.256C123.517 204.254 125.725 201.276 126.771 197.828C127.816 194.38 127.633 190.677 126.253 187.349C124.874 184.021 122.383 181.274 119.205 179.577C116.027 177.88 112.359 177.337 108.826 178.042C105.293 178.746 102.113 180.654 99.8291 183.44C97.5451 186.226 96.2979 189.718 96.3 193.32C96.2985 195.364 96.7006 197.388 97.4831 199.275C98.2656 201.163 99.4132 202.877 100.86 204.32ZM204.32 122.88C206.868 120.333 208.453 116.981 208.806 113.396C209.159 109.811 208.258 106.214 206.256 103.219C204.254 100.223 201.275 98.0151 197.827 96.97C194.38 95.9249 190.676 96.1077 187.348 97.4873C184.02 98.8669 181.274 101.358 179.577 104.536C177.879 107.714 177.337 111.382 178.041 114.915C178.746 118.448 180.653 121.627 183.439 123.911C186.226 126.195 189.717 127.443 193.32 127.44C195.364 127.443 197.388 127.042 199.275 126.259C201.163 125.476 202.878 124.328 204.32 122.88ZM122.88 19.4205C120.333 16.8729 116.981 15.2876 113.395 14.9347C109.81 14.5817 106.213 15.483 103.218 17.4849C100.223 19.4868 98.0146 22.4654 96.9696 25.9131C95.9245 29.3608 96.1073 33.0642 97.4869 36.3922C98.8665 39.7202 101.358 42.4668 104.535 44.1639C107.713 45.861 111.381 46.4036 114.914 45.6992C118.447 44.9949 121.627 43.0871 123.911 40.301C126.195 37.515 127.442 34.0231 127.44 30.4205C127.44 28.3772 127.038 26.3539 126.255 24.4664C125.473 22.5788 124.326 20.8642 122.88 19.4205ZM19.42 100.86C16.8725 103.408 15.2872 106.76 14.9342 110.345C14.5813 113.93 15.4826 117.527 17.4844 120.522C19.4863 123.518 22.4649 125.726 25.9127 126.771C29.3604 127.816 33.0638 127.633 36.3918 126.254C39.7198 124.874 42.4664 122.383 44.1635 119.205C45.8606 116.027 46.4032 112.359 45.6988 108.826C44.9944 105.293 43.0866 102.114 40.3006 99.8296C37.5145 97.5455 34.0227 96.2983 30.42 96.3005C26.2938 96.3018 22.337 97.9421 19.42 100.86ZM100.86 100.86C98.3125 103.408 96.7272 106.76 96.3742 110.345C96.0213 113.93 96.9226 117.527 98.9244 120.522C100.926 123.518 103.905 125.726 107.353 126.771C110.8 127.816 114.504 127.633 117.832 126.254C121.16 124.874 123.906 122.383 125.604 119.205C127.301 116.027 127.843 112.359 127.139 108.826C126.434 105.293 124.527 102.114 121.741 99.8296C118.955 97.5455 115.463 96.2983 111.86 96.3005C109.817 96.299 107.793 96.701 105.905 97.4835C104.018 98.2661 102.303 99.4136 100.86 100.86Z\" fill=\"#00AEEF\"/>\n",
       "    </g>\n",
       "    <defs>\n",
       "        <clipPath id=\"clip0_4338_178347\">\n",
       "            <rect width=\"566.93\" height=\"223.75\" fill=\"white\"/>\n",
       "        </clipPath>\n",
       "    </defs>\n",
       "  </svg>\n",
       "</div>\n",
       "\n",
       "        <table class=\"jp-RenderedHTMLCommon\" style=\"border-collapse: collapse;color: var(--jp-ui-font-color1);font-size: var(--jp-ui-font-size1);\">\n",
       "    <tr>\n",
       "        <td style=\"text-align: left\"><b>Python version:</b></td>\n",
       "        <td style=\"text-align: left\"><b>3.7.7</b></td>\n",
       "    </tr>\n",
       "    <tr>\n",
       "        <td style=\"text-align: left\"><b>Ray version:</b></td>\n",
       "        <td style=\"text-align: left\"><b>2.7.2</b></td>\n",
       "    </tr>\n",
       "    \n",
       "</table>\n",
       "\n",
       "    </div>\n",
       "</div>\n"
      ],
      "text/plain": [
       "RayContext(dashboard_url='', python_version='3.7.7', ray_version='2.7.2', ray_commit='82221fbf2c0e6304f981ce613e4297eb7535dd52', protocol_version=None)"
      ]
     },
     "execution_count": 102,
     "metadata": {},
     "output_type": "execute_result"
    }
   ],
   "source": [
    "ray.init(num_cpus=num_cpus)"
   ]
  },
  {
   "cell_type": "code",
   "execution_count": 103,
   "id": "62c75958",
   "metadata": {},
   "outputs": [],
   "source": [
    "@ray.remote\n",
    "def f(image, random_filter):\n",
    "    # Do some image processing.\n",
    "    return scipy.signal.convolve2d(image, random_filter)[::5, ::5]"
   ]
  },
  {
   "cell_type": "code",
   "execution_count": 104,
   "id": "c923415f",
   "metadata": {},
   "outputs": [],
   "source": [
    "filters = [np.random.normal(size=(4, 4)) for _ in range(num_cpus)]"
   ]
  },
  {
   "cell_type": "code",
   "execution_count": 105,
   "id": "1ac78f9b",
   "metadata": {},
   "outputs": [],
   "source": [
    "for _ in range(10):\n",
    "    image = np.zeros((3000, 3000))\n",
    "    image_id = ray.put(image)\n",
    "    ray.get([f.remote(image_id, filters[i]) for i in range(num_cpus)])"
   ]
  },
  {
   "cell_type": "code",
   "execution_count": 106,
   "id": "8eb0ac08",
   "metadata": {},
   "outputs": [],
   "source": [
    "ray.shutdown()"
   ]
  },
  {
   "cell_type": "code",
   "execution_count": 107,
   "id": "399aa35b",
   "metadata": {},
   "outputs": [],
   "source": [
    "from multiprocessing import Pool\n",
    "import numpy as np\n",
    "import psutil\n",
    "import scipy.signal\n",
    "\n",
    "num_cpus = psutil.cpu_count(logical=False)\n",
    "\n",
    "def f(args):\n",
    "    image, random_filter = args\n",
    "    # Do some image processing.\n",
    "    return scipy.signal.convolve2d(image, random_filter)[::5, ::5]\n",
    "\n",
    "pool = Pool(num_cpus)\n",
    "\n",
    "filters = [np.random.normal(size=(4, 4)) for _ in range(num_cpus)]\n",
    "\n",
    "# Time the code below.\n",
    "\n",
    "for _ in range(10):\n",
    "    image = np.zeros((3000, 3000))\n",
    "    pool.map(f, zip(num_cpus * [image], filters))"
   ]
  },
  {
   "cell_type": "code",
   "execution_count": null,
   "id": "cc9ade70",
   "metadata": {},
   "outputs": [],
   "source": []
  }
 ],
 "metadata": {
  "kernelspec": {
   "display_name": "aaml",
   "language": "python",
   "name": "aaml"
  },
  "language_info": {
   "codemirror_mode": {
    "name": "ipython",
    "version": 3
   },
   "file_extension": ".py",
   "mimetype": "text/x-python",
   "name": "python",
   "nbconvert_exporter": "python",
   "pygments_lexer": "ipython3",
   "version": "3.7.7"
  },
  "varInspector": {
   "cols": {
    "lenName": 16,
    "lenType": 16,
    "lenVar": 40
   },
   "kernels_config": {
    "python": {
     "delete_cmd_postfix": "",
     "delete_cmd_prefix": "del ",
     "library": "var_list.py",
     "varRefreshCmd": "print(var_dic_list())"
    },
    "r": {
     "delete_cmd_postfix": ") ",
     "delete_cmd_prefix": "rm(",
     "library": "var_list.r",
     "varRefreshCmd": "cat(var_dic_list()) "
    }
   },
   "types_to_exclude": [
    "module",
    "function",
    "builtin_function_or_method",
    "instance",
    "_Feature"
   ],
   "window_display": false
  }
 },
 "nbformat": 4,
 "nbformat_minor": 5
}
