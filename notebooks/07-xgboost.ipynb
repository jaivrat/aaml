{
 "cells": [
  {
   "cell_type": "code",
   "execution_count": 9,
   "id": "c92ae316",
   "metadata": {},
   "outputs": [],
   "source": [
    "import pandas as pd\n",
    "from sklearn import model_selection\n"
   ]
  },
  {
   "cell_type": "code",
   "execution_count": 5,
   "id": "285b46d4",
   "metadata": {},
   "outputs": [],
   "source": [
    "# US adult census data\n",
    "df = pd.read_csv(\"../data/adult.csv\")"
   ]
  },
  {
   "cell_type": "code",
   "execution_count": 7,
   "id": "050fd240",
   "metadata": {},
   "outputs": [
    {
     "data": {
      "text/html": [
       "<div>\n",
       "<style scoped>\n",
       "    .dataframe tbody tr th:only-of-type {\n",
       "        vertical-align: middle;\n",
       "    }\n",
       "\n",
       "    .dataframe tbody tr th {\n",
       "        vertical-align: top;\n",
       "    }\n",
       "\n",
       "    .dataframe thead th {\n",
       "        text-align: right;\n",
       "    }\n",
       "</style>\n",
       "<table border=\"1\" class=\"dataframe\">\n",
       "  <thead>\n",
       "    <tr style=\"text-align: right;\">\n",
       "      <th></th>\n",
       "      <th>age</th>\n",
       "      <th>workclass</th>\n",
       "      <th>fnlwgt</th>\n",
       "      <th>education</th>\n",
       "      <th>education.num</th>\n",
       "      <th>marital.status</th>\n",
       "      <th>occupation</th>\n",
       "      <th>relationship</th>\n",
       "      <th>race</th>\n",
       "      <th>sex</th>\n",
       "      <th>capital.gain</th>\n",
       "      <th>capital.loss</th>\n",
       "      <th>hours.per.week</th>\n",
       "      <th>native.country</th>\n",
       "      <th>income</th>\n",
       "    </tr>\n",
       "  </thead>\n",
       "  <tbody>\n",
       "    <tr>\n",
       "      <th>0</th>\n",
       "      <td>90</td>\n",
       "      <td>?</td>\n",
       "      <td>77053</td>\n",
       "      <td>HS-grad</td>\n",
       "      <td>9</td>\n",
       "      <td>Widowed</td>\n",
       "      <td>?</td>\n",
       "      <td>Not-in-family</td>\n",
       "      <td>White</td>\n",
       "      <td>Female</td>\n",
       "      <td>0</td>\n",
       "      <td>4356</td>\n",
       "      <td>40</td>\n",
       "      <td>United-States</td>\n",
       "      <td>&lt;=50K</td>\n",
       "    </tr>\n",
       "    <tr>\n",
       "      <th>1</th>\n",
       "      <td>82</td>\n",
       "      <td>Private</td>\n",
       "      <td>132870</td>\n",
       "      <td>HS-grad</td>\n",
       "      <td>9</td>\n",
       "      <td>Widowed</td>\n",
       "      <td>Exec-managerial</td>\n",
       "      <td>Not-in-family</td>\n",
       "      <td>White</td>\n",
       "      <td>Female</td>\n",
       "      <td>0</td>\n",
       "      <td>4356</td>\n",
       "      <td>18</td>\n",
       "      <td>United-States</td>\n",
       "      <td>&lt;=50K</td>\n",
       "    </tr>\n",
       "    <tr>\n",
       "      <th>2</th>\n",
       "      <td>66</td>\n",
       "      <td>?</td>\n",
       "      <td>186061</td>\n",
       "      <td>Some-college</td>\n",
       "      <td>10</td>\n",
       "      <td>Widowed</td>\n",
       "      <td>?</td>\n",
       "      <td>Unmarried</td>\n",
       "      <td>Black</td>\n",
       "      <td>Female</td>\n",
       "      <td>0</td>\n",
       "      <td>4356</td>\n",
       "      <td>40</td>\n",
       "      <td>United-States</td>\n",
       "      <td>&lt;=50K</td>\n",
       "    </tr>\n",
       "    <tr>\n",
       "      <th>3</th>\n",
       "      <td>54</td>\n",
       "      <td>Private</td>\n",
       "      <td>140359</td>\n",
       "      <td>7th-8th</td>\n",
       "      <td>4</td>\n",
       "      <td>Divorced</td>\n",
       "      <td>Machine-op-inspct</td>\n",
       "      <td>Unmarried</td>\n",
       "      <td>White</td>\n",
       "      <td>Female</td>\n",
       "      <td>0</td>\n",
       "      <td>3900</td>\n",
       "      <td>40</td>\n",
       "      <td>United-States</td>\n",
       "      <td>&lt;=50K</td>\n",
       "    </tr>\n",
       "    <tr>\n",
       "      <th>4</th>\n",
       "      <td>41</td>\n",
       "      <td>Private</td>\n",
       "      <td>264663</td>\n",
       "      <td>Some-college</td>\n",
       "      <td>10</td>\n",
       "      <td>Separated</td>\n",
       "      <td>Prof-specialty</td>\n",
       "      <td>Own-child</td>\n",
       "      <td>White</td>\n",
       "      <td>Female</td>\n",
       "      <td>0</td>\n",
       "      <td>3900</td>\n",
       "      <td>40</td>\n",
       "      <td>United-States</td>\n",
       "      <td>&lt;=50K</td>\n",
       "    </tr>\n",
       "  </tbody>\n",
       "</table>\n",
       "</div>"
      ],
      "text/plain": [
       "   age workclass  fnlwgt     education  education.num marital.status  \\\n",
       "0   90         ?   77053       HS-grad              9        Widowed   \n",
       "1   82   Private  132870       HS-grad              9        Widowed   \n",
       "2   66         ?  186061  Some-college             10        Widowed   \n",
       "3   54   Private  140359       7th-8th              4       Divorced   \n",
       "4   41   Private  264663  Some-college             10      Separated   \n",
       "\n",
       "          occupation   relationship   race     sex  capital.gain  \\\n",
       "0                  ?  Not-in-family  White  Female             0   \n",
       "1    Exec-managerial  Not-in-family  White  Female             0   \n",
       "2                  ?      Unmarried  Black  Female             0   \n",
       "3  Machine-op-inspct      Unmarried  White  Female             0   \n",
       "4     Prof-specialty      Own-child  White  Female             0   \n",
       "\n",
       "   capital.loss  hours.per.week native.country income  \n",
       "0          4356              40  United-States  <=50K  \n",
       "1          4356              18  United-States  <=50K  \n",
       "2          4356              40  United-States  <=50K  \n",
       "3          3900              40  United-States  <=50K  \n",
       "4          3900              40  United-States  <=50K  "
      ]
     },
     "execution_count": 7,
     "metadata": {},
     "output_type": "execute_result"
    }
   ],
   "source": [
    "df.head()"
   ]
  },
  {
   "cell_type": "markdown",
   "id": "c409bcac",
   "metadata": {},
   "source": [
    "Columns:\n",
    "\n",
    "* age\n",
    "* workclass\n",
    "* fnlwgt\n",
    "* education\n",
    "* education.num\n",
    "* marital.status\n",
    "* occupation\n",
    "* relationship\n",
    "* race\n",
    "* sex\n",
    "* capital.gain\n",
    "* capital.loss\n",
    "* hours.per.week\n",
    "* native.country\n",
    "* income\n"
   ]
  },
  {
   "cell_type": "code",
   "execution_count": 8,
   "id": "347c8aa3",
   "metadata": {},
   "outputs": [
    {
     "data": {
      "text/plain": [
       "<=50K    24720\n",
       ">50K      7841\n",
       "Name: income, dtype: int64"
      ]
     },
     "execution_count": 8,
     "metadata": {},
     "output_type": "execute_result"
    }
   ],
   "source": [
    "df.income.value_counts()"
   ]
  },
  {
   "cell_type": "code",
   "execution_count": 54,
   "id": "9be934c3",
   "metadata": {},
   "outputs": [],
   "source": [
    "# US adult census data\n",
    "df = pd.read_csv(\"../data/adult.csv\")\n",
    "\n",
    "# For simplicity we drop numerical columns\n",
    "num_cols = [\"fnlwgt\", \"age\", \"capital.gain\", \"capital.loss\", \"hours.per.week\"]\n",
    "\n",
    "df  = df.drop(num_cols, axis = 1)\n",
    "\n",
    "# map targets to 0s and 1s\n",
    "target_mapping = { \"<=50K\": 0, \">50K\": 1}\n",
    "df.loc[:, \"income\"] = df.income.map(target_mapping)\n",
    "\n",
    "# all columns are features except income and kfold columns\n",
    "features = [ f for f in df.columns if f not in (\"kfold\", \"income\")]\n",
    "\n",
    "# fill all Nan values with None. Note that NONE is string here.\n",
    "# it does not matter as all are categories\n",
    "for col in features:\n",
    "    df.loc[:, col] = df[col].astype(str).fillna(\"NONE\")\n",
    "    \n",
    "# we create a new column called kfold and fill it with -1\n",
    "df[\"kfold\"] = -1\n",
    "\n",
    "# the next step is to randomize the rows of the data\n",
    "df = df.sample(frac=1).reset_index(drop=True)\n",
    "\n",
    "# fetch labels\n",
    "y = df.income.values\n",
    "\n",
    "# initiate the kfold class from model_selection module\n",
    "kf = model_selection.StratifiedKFold(n_splits=5)\n",
    "\n",
    "# fill the new kfold column\n",
    "for f, (t_, v_) in enumerate(kf.split(X=df, y=y)):\n",
    "    df.loc[v_, 'kfold'] = f\n"
   ]
  },
  {
   "cell_type": "code",
   "execution_count": null,
   "id": "8eec5050",
   "metadata": {},
   "outputs": [],
   "source": [
    "#### We do first logistic with one hot encoding"
   ]
  },
  {
   "cell_type": "code",
   "execution_count": 39,
   "id": "c98f4ca9",
   "metadata": {},
   "outputs": [],
   "source": [
    "from sklearn import metrics\n",
    "from sklearn import preprocessing\n",
    "from sklearn import linear_model\n",
    "\n",
    "def run_logistic_ohe(fold, data):\n",
    "    df = data.copy()\n",
    "\n",
    "    print(f\"df shape {df.shape}\")\n",
    "    # all columns are features except id, target and kfold columns\n",
    "    features = [f for f in df.columns if f not in (\"id\", \"target\", \"kfold\")]\n",
    "\n",
    "    # get training data using folds\n",
    "    df_train = df[df.kfold != fold].reset_index(drop=True)\n",
    "\n",
    "    # get validation data using folds\n",
    "    df_valid = df[df.kfold == fold].reset_index(drop=True)\n",
    "    \n",
    "    # initialize OneHotEncoder from scikit-learn\n",
    "    ohe = preprocessing.OneHotEncoder()\n",
    "    \n",
    "    # fit ohe on training + validation features\n",
    "    full_data = pd.concat([df_train[features], df_valid[features]], axis = 0)\n",
    "    ohe.fit(full_data[features])\n",
    "\n",
    "    # transform to get training data\n",
    "    x_train = ohe.transform(df_train[features])\n",
    "    \n",
    "    # transform to get validation data\n",
    "    x_valid = ohe.transform(df_valid[features])   \n",
    "    \n",
    "    # initialize Logistic Regression model\n",
    "    model = linear_model.LogisticRegression()\n",
    "\n",
    "    # fit model on training data\n",
    "    model.fit(x_train, df_train.income.values)\n",
    "\n",
    "    # predict on validation data\n",
    "    # we need the probability values as we are calculating AUC\n",
    "    # we will use the probability of 1s\n",
    "    valid_preds = model.predict_proba(x_valid)[:, 1]\n",
    "    \n",
    "    # get roc auc score\n",
    "    auc = metrics.roc_auc_score(df_valid.income.values, valid_preds)\n",
    "    \n",
    "    train_preds = model.predict_proba(x_train)[:, 1]\n",
    "    auc_train = metrics.roc_auc_score(df_train.income.values, train_preds)\n",
    "    \n",
    "    # print auc\n",
    "    print(f\"Fold = {fold}, AUC valid = {auc} auc_train = {auc_train}\")"
   ]
  },
  {
   "cell_type": "code",
   "execution_count": 40,
   "id": "160ca340",
   "metadata": {},
   "outputs": [
    {
     "name": "stdout",
     "output_type": "stream",
     "text": [
      "df shape (32561, 11)\n",
      "Fold = 0, AUC valid = 1.0 auc_train = 1.0\n",
      "df shape (32561, 11)\n",
      "Fold = 1, AUC valid = 1.0 auc_train = 1.0\n",
      "df shape (32561, 11)\n",
      "Fold = 2, AUC valid = 1.0 auc_train = 1.0\n",
      "df shape (32561, 11)\n",
      "Fold = 3, AUC valid = 1.0 auc_train = 1.0\n",
      "df shape (32561, 11)\n",
      "Fold = 4, AUC valid = 1.0 auc_train = 1.0\n"
     ]
    }
   ],
   "source": [
    "for fold in range(5):\n",
    "    run_logistic_ohe(fold, df)"
   ]
  },
  {
   "cell_type": "markdown",
   "id": "f6b94c2d",
   "metadata": {},
   "source": [
    "AUC is too good to be true :) How?"
   ]
  },
  {
   "cell_type": "code",
   "execution_count": 43,
   "id": "2f196f9b",
   "metadata": {},
   "outputs": [
    {
     "data": {
      "text/html": [
       "<div>\n",
       "<style scoped>\n",
       "    .dataframe tbody tr th:only-of-type {\n",
       "        vertical-align: middle;\n",
       "    }\n",
       "\n",
       "    .dataframe tbody tr th {\n",
       "        vertical-align: top;\n",
       "    }\n",
       "\n",
       "    .dataframe thead th {\n",
       "        text-align: right;\n",
       "    }\n",
       "</style>\n",
       "<table border=\"1\" class=\"dataframe\">\n",
       "  <thead>\n",
       "    <tr style=\"text-align: right;\">\n",
       "      <th></th>\n",
       "      <th>a</th>\n",
       "      <th>b</th>\n",
       "    </tr>\n",
       "  </thead>\n",
       "  <tbody>\n",
       "    <tr>\n",
       "      <th>0</th>\n",
       "      <td>1</td>\n",
       "      <td>0</td>\n",
       "    </tr>\n",
       "    <tr>\n",
       "      <th>1</th>\n",
       "      <td>2</td>\n",
       "      <td>0</td>\n",
       "    </tr>\n",
       "    <tr>\n",
       "      <th>2</th>\n",
       "      <td>3</td>\n",
       "      <td>1</td>\n",
       "    </tr>\n",
       "  </tbody>\n",
       "</table>\n",
       "</div>"
      ],
      "text/plain": [
       "   a  b\n",
       "0  1  0\n",
       "1  2  0\n",
       "2  3  1"
      ]
     },
     "execution_count": 43,
     "metadata": {},
     "output_type": "execute_result"
    }
   ],
   "source": [
    "# Let me see one host encoding again\n",
    "expt_df = pd.DataFrame({\"a\": [1 , 2, 3], \"b\": [0,0,1]})\n",
    "expt_df"
   ]
  },
  {
   "cell_type": "code",
   "execution_count": 45,
   "id": "b705df16",
   "metadata": {},
   "outputs": [
    {
     "data": {
      "text/plain": [
       "OneHotEncoder()"
      ]
     },
     "execution_count": 45,
     "metadata": {},
     "output_type": "execute_result"
    }
   ],
   "source": [
    "ohe = preprocessing.OneHotEncoder()\n",
    "ohe.fit(expt_df)"
   ]
  },
  {
   "cell_type": "code",
   "execution_count": 47,
   "id": "4d7bd7fe",
   "metadata": {},
   "outputs": [],
   "source": [
    "expt_df_trans = ohe.transform(expt_df)"
   ]
  },
  {
   "cell_type": "code",
   "execution_count": 50,
   "id": "9035c92a",
   "metadata": {},
   "outputs": [
    {
     "data": {
      "text/plain": [
       "matrix([[1., 0., 0., 1., 0.],\n",
       "        [0., 1., 0., 1., 0.],\n",
       "        [0., 0., 1., 0., 1.]])"
      ]
     },
     "execution_count": 50,
     "metadata": {},
     "output_type": "execute_result"
    }
   ],
   "source": [
    "expt_df_trans.todense()"
   ]
  },
  {
   "cell_type": "markdown",
   "id": "b9e4ef12",
   "metadata": {},
   "source": [
    "We can see that output has three rows as number of rows in expt_df. \n",
    "* First column **a** has got three distinct values, so first three columns of expt_df_trans correspond to those three one hot encoded values. \n",
    "* Second column **b** has got 2 distinct values, so last 2 columns of expt_df_trans are one hot encodings of **b**\n",
    "Therefore total number of columns are 3 + 2 = 5"
   ]
  },
  {
   "cell_type": "markdown",
   "id": "148136fc",
   "metadata": {},
   "source": [
    "###  Let us try XGBoost"
   ]
  },
  {
   "cell_type": "code",
   "execution_count": 56,
   "id": "cefd6b3a",
   "metadata": {},
   "outputs": [],
   "source": [
    "\n",
    "def run_xgb_labelencoding(fold, data):\n",
    "    df = data.copy()\n",
    "\n",
    "    print(f\"df shape {df.shape}\")\n",
    "    # all columns are features except id, target and kfold columns\n",
    "    features = [f for f in df.columns if f not in (\"id\", \"target\", \"kfold\")]\n",
    "    \n",
    "    # label encode the features\n",
    "    for col in features:\n",
    "        # initialize LabelEncoder for each feature column\n",
    "        lbl = preprocessing.LabelEncoder()\n",
    "        # fit label encoder on all data\n",
    "        lbl.fit(data[col])\n",
    "        # transform all the data\n",
    "        df.loc[:, col] = lbl.transform(df[col])\n",
    "        \n",
    "    # get training data using folds\n",
    "    df_train = df[df.kfold != fold].reset_index(drop=True)\n",
    "\n",
    "    # get validation data using folds\n",
    "    df_valid = df[df.kfold == fold].reset_index(drop=True)\n",
    "    \n",
    "    # transform to get training data\n",
    "    x_train = df_train[features]\n",
    "    \n",
    "    # transform to get validation data\n",
    "    x_valid = df_valid[features]\n",
    "    \n",
    "    # initialize xgboost model\n",
    "    model = xgb.XGBClassifier(n_jobs=-1)\n",
    "\n",
    "    # fit model on training data\n",
    "    model.fit(x_train, df_train.income.values)\n",
    "\n",
    "    # predict on validation data\n",
    "    # we need the probability values as we are calculating AUC\n",
    "    # we will use the probability of 1s\n",
    "    valid_preds = model.predict_proba(x_valid)[:, 1]\n",
    "    \n",
    "    # get roc auc score\n",
    "    auc = metrics.roc_auc_score(df_valid.income.values, valid_preds)\n",
    "    \n",
    "    train_preds = model.predict_proba(x_train)[:, 1]\n",
    "    auc_train = metrics.roc_auc_score(df_train.income.values, train_preds)\n",
    "    \n",
    "    # print auc\n",
    "    print(f\"Fold = {fold}, AUC valid = {auc} auc_train = {auc_train}\")"
   ]
  },
  {
   "cell_type": "code",
   "execution_count": 57,
   "id": "cd0cd37c",
   "metadata": {},
   "outputs": [
    {
     "name": "stdout",
     "output_type": "stream",
     "text": [
      "df shape (32561, 11)\n",
      "Fold = 0, AUC valid = 1.0 auc_train = 1.0\n",
      "df shape (32561, 11)\n",
      "Fold = 1, AUC valid = 1.0 auc_train = 1.0\n",
      "df shape (32561, 11)\n",
      "Fold = 2, AUC valid = 1.0 auc_train = 1.0\n",
      "df shape (32561, 11)\n",
      "Fold = 3, AUC valid = 1.0 auc_train = 1.0\n",
      "df shape (32561, 11)\n",
      "Fold = 4, AUC valid = 1.0 auc_train = 1.0\n"
     ]
    }
   ],
   "source": [
    "for fold in range(5):\n",
    "    run_xgb_labelencoding(fold, df)"
   ]
  },
  {
   "cell_type": "markdown",
   "id": "0c3436cb",
   "metadata": {},
   "source": [
    "again even with XGBoost , then AUC is too good to be true :) How?"
   ]
  },
  {
   "cell_type": "code",
   "execution_count": 63,
   "id": "f94996a3",
   "metadata": {},
   "outputs": [
    {
     "data": {
      "text/html": [
       "<div>\n",
       "<style scoped>\n",
       "    .dataframe tbody tr th:only-of-type {\n",
       "        vertical-align: middle;\n",
       "    }\n",
       "\n",
       "    .dataframe tbody tr th {\n",
       "        vertical-align: top;\n",
       "    }\n",
       "\n",
       "    .dataframe thead th {\n",
       "        text-align: right;\n",
       "    }\n",
       "</style>\n",
       "<table border=\"1\" class=\"dataframe\">\n",
       "  <thead>\n",
       "    <tr style=\"text-align: right;\">\n",
       "      <th></th>\n",
       "      <th>a</th>\n",
       "      <th>b</th>\n",
       "    </tr>\n",
       "  </thead>\n",
       "  <tbody>\n",
       "    <tr>\n",
       "      <th>0</th>\n",
       "      <td>A</td>\n",
       "      <td>AA</td>\n",
       "    </tr>\n",
       "    <tr>\n",
       "      <th>1</th>\n",
       "      <td>C</td>\n",
       "      <td>BB</td>\n",
       "    </tr>\n",
       "    <tr>\n",
       "      <th>2</th>\n",
       "      <td>B</td>\n",
       "      <td>AA</td>\n",
       "    </tr>\n",
       "  </tbody>\n",
       "</table>\n",
       "</div>"
      ],
      "text/plain": [
       "   a   b\n",
       "0  A  AA\n",
       "1  C  BB\n",
       "2  B  AA"
      ]
     },
     "execution_count": 63,
     "metadata": {},
     "output_type": "execute_result"
    }
   ],
   "source": [
    "### Let me revist Label encoder\n",
    "expt_df = pd.DataFrame({\"a\": [\"A\", \"C\", \"B\"], \"b\": [\"AA\",\"BB\", \"AA\"]})\n",
    "expt_df"
   ]
  },
  {
   "cell_type": "code",
   "execution_count": 64,
   "id": "9eab07b8",
   "metadata": {},
   "outputs": [
    {
     "data": {
      "text/plain": [
       "array([0, 2, 1])"
      ]
     },
     "execution_count": 64,
     "metadata": {},
     "output_type": "execute_result"
    }
   ],
   "source": [
    "lbl = preprocessing.LabelEncoder()\n",
    "lbl.fit(expt_df[\"a\"])\n",
    "lbl.transform(expt_df[\"a\"])"
   ]
  },
  {
   "cell_type": "code",
   "execution_count": 66,
   "id": "3c9b3f89",
   "metadata": {},
   "outputs": [
    {
     "data": {
      "text/plain": [
       "array([0, 1, 0])"
      ]
     },
     "execution_count": 66,
     "metadata": {},
     "output_type": "execute_result"
    }
   ],
   "source": [
    "lbl.fit(expt_df[\"b\"])\n",
    "lbl.transform(expt_df[\"b\"])"
   ]
  },
  {
   "cell_type": "code",
   "execution_count": null,
   "id": "808ee7b3",
   "metadata": {},
   "outputs": [],
   "source": []
  }
 ],
 "metadata": {
  "kernelspec": {
   "display_name": "aaml",
   "language": "python",
   "name": "aaml"
  },
  "language_info": {
   "codemirror_mode": {
    "name": "ipython",
    "version": 3
   },
   "file_extension": ".py",
   "mimetype": "text/x-python",
   "name": "python",
   "nbconvert_exporter": "python",
   "pygments_lexer": "ipython3",
   "version": "3.7.7"
  },
  "varInspector": {
   "cols": {
    "lenName": 16,
    "lenType": 16,
    "lenVar": 40
   },
   "kernels_config": {
    "python": {
     "delete_cmd_postfix": "",
     "delete_cmd_prefix": "del ",
     "library": "var_list.py",
     "varRefreshCmd": "print(var_dic_list())"
    },
    "r": {
     "delete_cmd_postfix": ") ",
     "delete_cmd_prefix": "rm(",
     "library": "var_list.r",
     "varRefreshCmd": "cat(var_dic_list()) "
    }
   },
   "types_to_exclude": [
    "module",
    "function",
    "builtin_function_or_method",
    "instance",
    "_Feature"
   ],
   "window_display": false
  }
 },
 "nbformat": 4,
 "nbformat_minor": 5
}
